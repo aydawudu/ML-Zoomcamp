{
  "nbformat": 4,
  "nbformat_minor": 0,
  "metadata": {
    "colab": {
      "provenance": [],
      "collapsed_sections": [],
      "authorship_tag": "ABX9TyMzPJNocOLgFFYkjCTW+wwe",
      "include_colab_link": true
    },
    "kernelspec": {
      "name": "python3",
      "display_name": "Python 3"
    },
    "language_info": {
      "name": "python"
    }
  },
  "cells": [
    {
      "cell_type": "markdown",
      "metadata": {
        "id": "view-in-github",
        "colab_type": "text"
      },
      "source": [
        "<a href=\"https://colab.research.google.com/github/aydawudu/ML-Zoomcamp/blob/main/Homework1.ipynb\" target=\"_parent\"><img src=\"https://colab.research.google.com/assets/colab-badge.svg\" alt=\"Open In Colab\"/></a>"
      ]
    },
    {
      "cell_type": "markdown",
      "source": [
        "#Libraries"
      ],
      "metadata": {
        "id": "yDAv5LuAZ-5e"
      }
    },
    {
      "cell_type": "code",
      "source": [
        "import numpy as np\n",
        "import pandas as pd\n",
        "import matplotlib.pyplot as plt\n",
        "import seaborn as sns"
      ],
      "metadata": {
        "id": "Xb8GNfBdcFp6"
      },
      "execution_count": null,
      "outputs": []
    },
    {
      "cell_type": "markdown",
      "source": [
        "#Question 1\n",
        "\n",
        "What's the version of Numpy you installed?\n"
      ],
      "metadata": {
        "id": "OWGtbvjFcfgO"
      }
    },
    {
      "cell_type": "code",
      "source": [
        "np.__version__"
      ],
      "metadata": {
        "colab": {
          "base_uri": "https://localhost:8080/",
          "height": 35
        },
        "id": "BlpCsvvRdPPg",
        "outputId": "7cbf65f0-2214-4391-c817-9d388affb7ba"
      },
      "execution_count": null,
      "outputs": [
        {
          "output_type": "execute_result",
          "data": {
            "text/plain": [
              "'1.21.6'"
            ],
            "application/vnd.google.colaboratory.intrinsic+json": {
              "type": "string"
            }
          },
          "metadata": {},
          "execution_count": 3
        }
      ]
    },
    {
      "cell_type": "markdown",
      "source": [
        "Getting the data"
      ],
      "metadata": {
        "id": "pLi6IttGdps1"
      }
    },
    {
      "cell_type": "code",
      "source": [
        "df=pd.read_csv(\"/content/data.csv\")"
      ],
      "metadata": {
        "id": "ECw6inpSdKp7"
      },
      "execution_count": null,
      "outputs": []
    },
    {
      "cell_type": "markdown",
      "source": [
        "# Question 2\n",
        "How many records are in the dataset?\n",
        "\n",
        "Here you need to specify the number of rows."
      ],
      "metadata": {
        "id": "tv3i_h8qdRp5"
      }
    },
    {
      "cell_type": "code",
      "source": [
        "# Answer: There are 11914 rows\n",
        "df.shape[0]"
      ],
      "metadata": {
        "colab": {
          "base_uri": "https://localhost:8080/"
        },
        "id": "1HURfQ07ddHa",
        "outputId": "bd670f9e-01d8-4a53-e8cc-8e3f6ce75174"
      },
      "execution_count": null,
      "outputs": [
        {
          "output_type": "execute_result",
          "data": {
            "text/plain": [
              "11914"
            ]
          },
          "metadata": {},
          "execution_count": 5
        }
      ]
    },
    {
      "cell_type": "markdown",
      "source": [
        "#Question 3\n",
        "Who are the most frequent car manufacturers (top-3) according to the dataset?"
      ],
      "metadata": {
        "id": "-5xhP9icdsVz"
      }
    },
    {
      "cell_type": "code",
      "source": [
        "# Answer: Chevrolet, Ford, Volkswagen are the most frequent car manufacturers\n",
        "df.Make.value_counts()\n"
      ],
      "metadata": {
        "colab": {
          "base_uri": "https://localhost:8080/"
        },
        "id": "xYNGuC-gd9LS",
        "outputId": "eaf30335-b6a5-4ecd-cf29-4ff962006d29"
      },
      "execution_count": null,
      "outputs": [
        {
          "output_type": "execute_result",
          "data": {
            "text/plain": [
              "Chevrolet        1123\n",
              "Ford              881\n",
              "Volkswagen        809\n",
              "Toyota            746\n",
              "Dodge             626\n",
              "Nissan            558\n",
              "GMC               515\n",
              "Honda             449\n",
              "Mazda             423\n",
              "Cadillac          397\n",
              "Mercedes-Benz     353\n",
              "Suzuki            351\n",
              "BMW               334\n",
              "Infiniti          330\n",
              "Audi              328\n",
              "Hyundai           303\n",
              "Volvo             281\n",
              "Subaru            256\n",
              "Acura             252\n",
              "Kia               231\n",
              "Mitsubishi        213\n",
              "Lexus             202\n",
              "Buick             196\n",
              "Chrysler          187\n",
              "Pontiac           186\n",
              "Lincoln           164\n",
              "Oldsmobile        150\n",
              "Land Rover        143\n",
              "Porsche           136\n",
              "Saab              111\n",
              "Aston Martin       93\n",
              "Plymouth           82\n",
              "Bentley            74\n",
              "Ferrari            69\n",
              "FIAT               62\n",
              "Scion              60\n",
              "Maserati           58\n",
              "Lamborghini        52\n",
              "Rolls-Royce        31\n",
              "Lotus              29\n",
              "Tesla              18\n",
              "HUMMER             17\n",
              "Maybach            16\n",
              "Alfa Romeo          5\n",
              "McLaren             5\n",
              "Spyker              3\n",
              "Genesis             3\n",
              "Bugatti             3\n",
              "Name: Make, dtype: int64"
            ]
          },
          "metadata": {},
          "execution_count": 39
        }
      ]
    },
    {
      "cell_type": "markdown",
      "source": [
        "#Question 4\n",
        "What's the number of unique Audi car models in the dataset?\n",
        "\n",
        "Answer=328\n"
      ],
      "metadata": {
        "id": "7VqQYW0zd_Ph"
      }
    },
    {
      "cell_type": "markdown",
      "source": [
        "#Question 5\n",
        "How many columns in the dataset have missing values?"
      ],
      "metadata": {
        "id": "FJspU2V7e4rn"
      }
    },
    {
      "cell_type": "code",
      "source": [
        "#Answer: There are 5 columns with missing value\n",
        "df.isnull().sum()"
      ],
      "metadata": {
        "colab": {
          "base_uri": "https://localhost:8080/"
        },
        "id": "vKfEZ1-mghfP",
        "outputId": "e2991d5b-2526-45ff-bd4c-c0dbc4d94679"
      },
      "execution_count": null,
      "outputs": [
        {
          "output_type": "execute_result",
          "data": {
            "text/plain": [
              "Make                    0\n",
              "Model                   0\n",
              "Year                    0\n",
              "Engine Fuel Type        3\n",
              "Engine HP              69\n",
              "Engine Cylinders       30\n",
              "Transmission Type       0\n",
              "Driven_Wheels           0\n",
              "Number of Doors         6\n",
              "Market Category      3742\n",
              "Vehicle Size            0\n",
              "Vehicle Style           0\n",
              "highway MPG             0\n",
              "city mpg                0\n",
              "Popularity              0\n",
              "MSRP                    0\n",
              "dtype: int64"
            ]
          },
          "metadata": {},
          "execution_count": 7
        }
      ]
    },
    {
      "cell_type": "markdown",
      "source": [
        "#Question 6\n",
        "Find the median value of \"Engine Cylinders\" column in the dataset.\n",
        "Next, calculate the most frequent value of the same \"Engine Cylinders\".\n",
        "Use the fillna method to fill the missing values in \"Engine Cylinders\" with the most frequent value from the previous step.\n",
        "Now, calculate the median value of \"Engine Cylinders\" once again.\n",
        "Has it changed?"
      ],
      "metadata": {
        "id": "IboR-IzIgjOw"
      }
    },
    {
      "cell_type": "code",
      "source": [
        "df['Engine Cylinders'].median()"
      ],
      "metadata": {
        "colab": {
          "base_uri": "https://localhost:8080/"
        },
        "id": "qg5Ttlzjg-Iy",
        "outputId": "4b7b1b15-2090-4191-8746-169dee684a05"
      },
      "execution_count": null,
      "outputs": [
        {
          "output_type": "execute_result",
          "data": {
            "text/plain": [
              "6.0"
            ]
          },
          "metadata": {},
          "execution_count": 8
        }
      ]
    },
    {
      "cell_type": "code",
      "source": [
        "df['Engine Cylinders'].value_counts()"
      ],
      "metadata": {
        "colab": {
          "base_uri": "https://localhost:8080/"
        },
        "id": "Co2xGpIIhIgu",
        "outputId": "ef86a8f6-2ded-4f2d-e260-2b7615dad2d7"
      },
      "execution_count": null,
      "outputs": [
        {
          "output_type": "execute_result",
          "data": {
            "text/plain": [
              "4.0     4752\n",
              "6.0     4489\n",
              "8.0     2031\n",
              "12.0     230\n",
              "5.0      225\n",
              "10.0      68\n",
              "0.0       56\n",
              "3.0       30\n",
              "16.0       3\n",
              "Name: Engine Cylinders, dtype: int64"
            ]
          },
          "metadata": {},
          "execution_count": 9
        }
      ]
    },
    {
      "cell_type": "code",
      "source": [
        "df=df.fillna(4)\n",
        "df['Engine Cylinders'].median()"
      ],
      "metadata": {
        "colab": {
          "base_uri": "https://localhost:8080/"
        },
        "id": "MdM92yZLhRzo",
        "outputId": "36d38513-b7cb-488e-8e1c-20f74d8e58a1"
      },
      "execution_count": null,
      "outputs": [
        {
          "output_type": "execute_result",
          "data": {
            "text/plain": [
              "6.0"
            ]
          },
          "metadata": {},
          "execution_count": 10
        }
      ]
    },
    {
      "cell_type": "code",
      "source": [
        "#Answer, the median has not changed"
      ],
      "metadata": {
        "id": "yc1Qqh4fhkBu"
      },
      "execution_count": null,
      "outputs": []
    },
    {
      "cell_type": "markdown",
      "source": [
        "#Question 7\n",
        "1. Select all the \"Lotus\" cars from the dataset.\n",
        "2. Select only columns \"Engine HP\", \"Engine Cylinders\".\n",
        "3. Now drop all duplicated rows using drop_duplicates method (you should get a dataframe with 9 rows).\n",
        "4. Get the underlying NumPy array. Let's call it X.\n",
        "5. Compute matrix-matrix multiplication between the transpose of X and X. To get the transpose, use X.T. Let's call the result XTX.\n",
        "6. Invert XTX.\n",
        "7. Create an array y with values [1100, 800, 750, 850, 1300, 1000, 1000, 1300, 800].\n",
        "8. Multiply the inverse of XTX with the transpose of X, and then multiply the result by y. Call the result w.\n",
        "9. What's the value of the first element of w?"
      ],
      "metadata": {
        "id": "-5c5DV7ahtF4"
      }
    },
    {
      "cell_type": "code",
      "source": [
        "df_lotus=df[(df[\"Make\"]=='Lotus')] #Select all the \"Lotus\" cars from the dataset.\n",
        "df_new=df_lotus[[\"Engine HP\", \"Engine Cylinders\"]] #Select only columns \"Engine HP\", \"Engine Cylinders\".\n",
        "X=df_new.drop_duplicates() #Now drop all duplicated rows using drop_duplicates method AND Get the underlying NumPy array. Let's call it X..\n",
        "X=X.to_numpy()\n",
        "XTX=X*X #Compute matrix-matrix multiplication between the transpose of X and X. \n",
        "XTX=XTX.T #Invert XTX.\n",
        "y=np.array([1100, 800, 750, 850, 1300, 1000, 1000, 1300, 800]) #Create an array y with values [1100, 800, 750, 850, 1300, 1000, 1000, 1300, 800]\n",
        "w=XTX * y #Multiply the inverse of XTX with the transpose of X, and then multiply the result by y. Call the result w.\n",
        "w[0]\n"
      ],
      "metadata": {
        "colab": {
          "base_uri": "https://localhost:8080/"
        },
        "id": "BoeNnyh8iHG7",
        "outputId": "5a85cbf0-fcc7-4e12-b5fb-c64db2d08a7a"
      },
      "execution_count": null,
      "outputs": [
        {
          "output_type": "execute_result",
          "data": {
            "text/plain": [
              "array([3.929310e+07, 3.801920e+07, 3.531675e+07, 1.041250e+08,\n",
              "       2.080000e+08, 7.617600e+07, 1.190250e+08, 8.586370e+07,\n",
              "       4.608000e+07])"
            ]
          },
          "metadata": {},
          "execution_count": 36
        }
      ]
    },
    {
      "cell_type": "code",
      "source": [],
      "metadata": {
        "id": "_BHxQUhyunYV"
      },
      "execution_count": null,
      "outputs": []
    }
  ]
}